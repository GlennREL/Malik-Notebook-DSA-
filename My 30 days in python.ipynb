{
 "cells": [
  {
   "cell_type": "code",
   "execution_count": null,
   "metadata": {},
   "outputs": [
    {
     "name": "stdout",
     "output_type": "stream",
     "text": [
      "5\n",
      "3.0\n",
      "8\n",
      "9\n",
      "1\n"
     ]
    }
   ],
   "source": [
    "print(3+2) #addition\n",
    "print(6/2) #division\n",
    "print(2*4) #multiplication\n",
    "print(3**2) #exponential\n",
    "print(3//2) # Floor division operator"
   ]
  },
  {
   "cell_type": "code",
   "execution_count": 16,
   "metadata": {},
   "outputs": [
    {
     "name": "stdout",
     "output_type": "stream",
     "text": [
      "<class 'int'>\n",
      "<class 'float'>\n",
      "<class 'complex'>\n",
      "<class 'str'>\n",
      "<class 'list'>\n",
      "<class 'dict'>\n",
      "<class 'set'>\n",
      "<class 'tuple'>\n"
     ]
    }
   ],
   "source": [
    "#data typed\n",
    "print(type(10))\n",
    "print(type(2.45))\n",
    "print(type(1+3j))\n",
    "print(type('malik'))\n",
    "print(type([1,2,3]))\n",
    "print(type({'name':'malik'}))\n",
    "print(type({3,4,5.6,7.8}))\n",
    "print(type((6.7,3.4)))"
   ]
  },
  {
   "cell_type": "code",
   "execution_count": 23,
   "metadata": {},
   "outputs": [
    {
     "name": "stdout",
     "output_type": "stream",
     "text": [
      "first_name: malik\n",
      "last_name: glenn\n",
      "country: kenya\n",
      "city: nairobi\n",
      "person_info: {'first_name': 'malik', 'last_name': 'glenn', 'country': 'kenya', 'city': 'nairobi'}\n",
      "married: True\n"
     ]
    }
   ],
   "source": [
    "#variables \n",
    "first_name = 'malik'\n",
    "last_name = 'glenn'\n",
    "country= 'kenya'\n",
    "city= 'nairobi'\n",
    "age = 19\n",
    "is_married= True\n",
    "person_info = {\n",
    "    'first_name':'malik',\n",
    "    'last_name':'glenn',\n",
    "    'country':'kenya',\n",
    "    'city':'nairobi',\n",
    "}\n",
    "\n",
    "print('first_name:',first_name)\n",
    "print('last_name:',last_name)\n",
    "print('country:',country)\n",
    "print('city:',city)\n",
    "print('person_info:',person_info)\n",
    "print('married:',is_married)"
   ]
  },
  {
   "cell_type": "code",
   "execution_count": null,
   "metadata": {},
   "outputs": [],
   "source": []
  }
 ],
 "metadata": {
  "kernelspec": {
   "display_name": "Python 3",
   "language": "python",
   "name": "python3"
  },
  "language_info": {
   "codemirror_mode": {
    "name": "ipython",
    "version": 3
   },
   "file_extension": ".py",
   "mimetype": "text/x-python",
   "name": "python",
   "nbconvert_exporter": "python",
   "pygments_lexer": "ipython3",
   "version": "3.12.3"
  }
 },
 "nbformat": 4,
 "nbformat_minor": 2
}
